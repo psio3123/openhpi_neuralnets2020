{
  "nbformat": 4,
  "nbformat_minor": 0,
  "metadata": {
    "colab": {
      "name": "openHPI_week3dropout.ipynb",
      "provenance": [],
      "collapsed_sections": [],
      "machine_shape": "hm",
      "authorship_tag": "ABX9TyOTqbhByc2pKzOsAYNq8aez"
    },
    "kernelspec": {
      "name": "python3",
      "display_name": "Python 3"
    },
    "accelerator": "GPU"
  },
  "cells": [
    {
      "cell_type": "markdown",
      "metadata": {
        "id": "V9wK8PkaT33p",
        "colab_type": "text"
      },
      "source": [
        "Install HPI tool and get trainings-data"
      ]
    },
    {
      "cell_type": "code",
      "metadata": {
        "id": "GkxaXvYST4Zl",
        "colab_type": "code",
        "outputId": "48348516-deed-4a48-a891-0e29bc006c05",
        "colab": {
          "base_uri": "https://localhost:8080/",
          "height": 377
        }
      },
      "source": [
        "%tensorflow_version 2.x # Befehl für Google Colab für Tensorflow 2\n",
        "\n",
        "# ohne Ausrufezeichen bei Ausführung im lokalen Notebook\n",
        "!pip install --upgrade deeplearning2020\n",
        "from deeplearning2020.datasets import ImageWoof\n",
        "\n",
        "train_data, test_data, classes = ImageWoof.load_data()"
      ],
      "execution_count": 0,
      "outputs": [
        {
          "output_type": "stream",
          "text": [
            "`%tensorflow_version` only switches the major version: 1.x or 2.x.\n",
            "You set: `2.x # Befehl für Google Colab für Tensorflow 2`. This will be interpreted as: `2.x`.\n",
            "\n",
            "\n",
            "TensorFlow is already loaded. Please restart the runtime to change versions.\n",
            "Requirement already up-to-date: deeplearning2020 in /usr/local/lib/python3.6/dist-packages (0.4.21)\n",
            "Requirement already satisfied, skipping upgrade: kerasltisubmission>=0.4.9 in /usr/local/lib/python3.6/dist-packages (from deeplearning2020) (0.4.9)\n",
            "Requirement already satisfied, skipping upgrade: progressbar2 in /usr/local/lib/python3.6/dist-packages (from kerasltisubmission>=0.4.9->deeplearning2020) (3.38.0)\n",
            "Requirement already satisfied, skipping upgrade: requests in /usr/local/lib/python3.6/dist-packages (from kerasltisubmission>=0.4.9->deeplearning2020) (2.21.0)\n",
            "Requirement already satisfied, skipping upgrade: numpy in /usr/local/lib/python3.6/dist-packages (from kerasltisubmission>=0.4.9->deeplearning2020) (1.18.2)\n",
            "Requirement already satisfied, skipping upgrade: python-utils>=2.3.0 in /usr/local/lib/python3.6/dist-packages (from progressbar2->kerasltisubmission>=0.4.9->deeplearning2020) (2.4.0)\n",
            "Requirement already satisfied, skipping upgrade: six in /usr/local/lib/python3.6/dist-packages (from progressbar2->kerasltisubmission>=0.4.9->deeplearning2020) (1.12.0)\n",
            "Requirement already satisfied, skipping upgrade: chardet<3.1.0,>=3.0.2 in /usr/local/lib/python3.6/dist-packages (from requests->kerasltisubmission>=0.4.9->deeplearning2020) (3.0.4)\n",
            "Requirement already satisfied, skipping upgrade: idna<2.9,>=2.5 in /usr/local/lib/python3.6/dist-packages (from requests->kerasltisubmission>=0.4.9->deeplearning2020) (2.8)\n",
            "Requirement already satisfied, skipping upgrade: urllib3<1.25,>=1.21.1 in /usr/local/lib/python3.6/dist-packages (from requests->kerasltisubmission>=0.4.9->deeplearning2020) (1.24.3)\n",
            "Requirement already satisfied, skipping upgrade: certifi>=2017.4.17 in /usr/local/lib/python3.6/dist-packages (from requests->kerasltisubmission>=0.4.9->deeplearning2020) (2020.4.5.1)\n",
            "/root/.keras/datasets/imagewoof2-320/train\n",
            "Loaded 9025 images\n",
            "/root/.keras/datasets/imagewoof2-320/val\n",
            "Loaded 3929 images\n"
          ],
          "name": "stdout"
        }
      ]
    },
    {
      "cell_type": "markdown",
      "metadata": {
        "id": "jFh1v0XCYWMF",
        "colab_type": "text"
      },
      "source": [
        "Init *Tensorflow* and stuff"
      ]
    },
    {
      "cell_type": "code",
      "metadata": {
        "id": "SHiZFtvnYaA2",
        "colab_type": "code",
        "outputId": "ea4a0963-2802-498e-b4ac-463af3ee55b3",
        "colab": {
          "base_uri": "https://localhost:8080/",
          "height": 34
        }
      },
      "source": [
        "# TensorFlow ≥2.0 wird benötigt\n",
        "import tensorflow as tf\n",
        "from tensorflow import keras\n",
        "assert tf.__version__ >= \"2.0\"\n",
        "\n",
        "if not tf.test.is_gpu_available():\n",
        "    print(\"No GPU was detected. CNNs can be very slow without a GPU.\")\n",
        "    if IS_COLAB:\n",
        "        print(\"Go to Runtime > Change runtime and select a GPU hardware accelerator.\")\n",
        "else:\n",
        "  print(\"GPU ok\")\n",
        "\n",
        "import numpy as np\n",
        "import matplotlib.pyplot as plt\n",
        "import tensorflow as tf\n",
        "import tensorflow_datasets as tfds\n",
        "import numpy as np\n",
        "from tensorflow.keras.datasets import mnist\n",
        "from tensorflow.keras.layers import Dense, Activation, Input, \\\n",
        "  Conv2D, MaxPooling2D, Flatten\n",
        "from tensorflow.keras.models import Model\n",
        "import matplotlib.pyplot as plt\n",
        "\n",
        "# jupyters notebook Befehl zum direkten Anzeigen von Matplotlib Diagrammen\n",
        "%matplotlib inline"
      ],
      "execution_count": 0,
      "outputs": [
        {
          "output_type": "stream",
          "text": [
            "GPU ok\n"
          ],
          "name": "stdout"
        }
      ]
    },
    {
      "cell_type": "markdown",
      "metadata": {
        "id": "i1M96uVFbrnt",
        "colab_type": "text"
      },
      "source": [
        "Ok, take helpers, too"
      ]
    },
    {
      "cell_type": "code",
      "metadata": {
        "id": "Go_XO7rib3qU",
        "colab_type": "code",
        "colab": {}
      },
      "source": [
        "from deeplearning2020 import helpers\n",
        "\n",
        "#helpers.plot_images(train_data_orig.take(9), classes)"
      ],
      "execution_count": 0,
      "outputs": []
    },
    {
      "cell_type": "markdown",
      "metadata": {
        "id": "bt3b3CO7c6sE",
        "colab_type": "text"
      },
      "source": [
        "Define the preprocessor"
      ]
    },
    {
      "cell_type": "code",
      "metadata": {
        "id": "lTcyXi24c9GP",
        "colab_type": "code",
        "colab": {}
      },
      "source": [
        "def preprocess(image, label):\n",
        "    resized_image = tf.image.resize(image, [300, 300])\n",
        "    return resized_image, label"
      ],
      "execution_count": 0,
      "outputs": []
    },
    {
      "cell_type": "markdown",
      "metadata": {
        "id": "Z-mdjoH1gzVl",
        "colab_type": "text"
      },
      "source": [
        "Resize the pictures and prepare batch"
      ]
    },
    {
      "cell_type": "code",
      "metadata": {
        "id": "AXbNr0pNgxmc",
        "colab_type": "code",
        "outputId": "5356f333-4ada-4066-e6ff-8d38d44223e7",
        "colab": {
          "base_uri": "https://localhost:8080/",
          "height": 71
        }
      },
      "source": [
        "# Festlegung der Batch Größe für die Datenvorbereitung\n",
        "batch_size = 32 \n",
        "\n",
        "# Durchmischen der Trainingsdaten, dass nicht mit sortierten Bildern trainiert wird \n",
        "train_data = train_data.shuffle(1000) \n",
        "\n",
        "print('shape des Trainigsdatensatzes vor dem preprocessing: ', train_data)\n",
        "\n",
        "train_data = train_data.map(preprocess) \\\n",
        "  .batch(batch_size).prefetch(1)          \n",
        "test_data = test_data.map(preprocess) \\\n",
        "  .batch(batch_size).prefetch(1)\n",
        "\n",
        "print('shape des Traingingsdatensatzes nach dem preprocessing: ', train_data)"
      ],
      "execution_count": 0,
      "outputs": [
        {
          "output_type": "stream",
          "text": [
            "shape des Trainigsdatensatzes vor dem preprocessing:  <ShuffleDataset shapes: ((None, None, 3), ()), types: (tf.float32, tf.int64)>\n",
            "shape des Traingingsdatensatzes nach dem preprocessing:  <PrefetchDataset shapes: ((None, 300, 300, 3), (None,)), types: (tf.float32, tf.int64)>\n"
          ],
          "name": "stdout"
        }
      ]
    },
    {
      "cell_type": "markdown",
      "metadata": {
        "id": "PW9OEuzxSAHY",
        "colab_type": "text"
      },
      "source": [
        "Show train data"
      ]
    },
    {
      "cell_type": "code",
      "metadata": {
        "id": "O-250b84SCYs",
        "colab_type": "code",
        "colab": {}
      },
      "source": [
        "#helpers.plot_images(train_data.unbatch().take(9), classes)"
      ],
      "execution_count": 0,
      "outputs": []
    },
    {
      "cell_type": "markdown",
      "metadata": {
        "id": "fqUNCRoK7dGN",
        "colab_type": "text"
      },
      "source": [
        "Dropout"
      ]
    },
    {
      "cell_type": "code",
      "metadata": {
        "id": "Gvxttg-J7ejW",
        "colab_type": "code",
        "colab": {}
      },
      "source": [
        "from tensorflow.keras.layers import Dropout"
      ],
      "execution_count": 0,
      "outputs": []
    },
    {
      "cell_type": "markdown",
      "metadata": {
        "id": "VsvC45-qeT95",
        "colab_type": "text"
      },
      "source": [
        "Define the net"
      ]
    },
    {
      "cell_type": "code",
      "metadata": {
        "id": "FBEVsODPerZ3",
        "colab_type": "code",
        "outputId": "b00b9daa-447e-4c23-9363-dfdd62e97db7",
        "colab": {
          "base_uri": "https://localhost:8080/",
          "height": 799
        }
      },
      "source": [
        "# model\n",
        "learning_rate=0.01\n",
        "momentum=0.9\n",
        "decay=0.001\n",
        "dense_neurons=800\n",
        "n_filters=32\n",
        "first_kernel_size=(7,7)\n",
        "\n",
        "n_classes=len(classes)\n",
        "\n",
        "activation='elu'\n",
        "\n",
        "# Inputgröße muss 300x300 Pixel mit 3 RGB Farben betragen\n",
        "input_layer = Input(shape=(300, 300, 3))\n",
        "input = BatchNormalization(axis=[1,2])(input_layer)\n",
        "\n",
        "# Convolutional Neural Network\n",
        "# Entry Convolutional Layers (with pooling)\n",
        "model = Conv2D(filters=n_filters, kernel_size=first_kernel_size, activation=activation )(input_layer)\n",
        "model = BatchNormalization(axis=[1,2])(model)\n",
        "model = MaxPooling2D((2,2))(model)\n",
        "\n",
        "# 4 Conv layer (with pooling)\n",
        "for i in range(2, 5):\n",
        "  model = Conv2D(filters = i * n_filters, kernel_size=(3,3), activation=activation)(model)\n",
        "  #model = Conv2D(filters = i * n_filters, kernel_size=(3,3), activation=activation, padding='same')(model)\n",
        "  model = BatchNormalization(axis=[1,2])(model)\n",
        "  model = MaxPooling2D((2,2))(model)\n",
        "\n",
        "# final conv & pooling\n",
        "model = Conv2D(filters = 5 * n_filters, kernel_size=(3,3), activation=activation, padding='same')(model)\n",
        "model = BatchNormalization(axis=[1,2])(model)\n",
        "model = MaxPooling2D((2,2))(model)\n",
        "\n",
        "# Fully-Connected-Classifier\n",
        "model = Flatten()(model)\n",
        "model = Dense(dense_neurons, activation=activation)(model)\n",
        "model = BatchNormalization()(model)\n",
        "model = Dropout(0.5)(model)\n",
        "\n",
        "# Fully connected layer\n",
        "model = Dense(dense_neurons / 2, activation='tanh')(model)\n",
        "model = BatchNormalization()(model)\n",
        "model = Dropout(0.5)(model)\n",
        "\n",
        "# Output Layer\n",
        "output = Dense(n_classes, activation=\"softmax\")(model)\n",
        "\n",
        "#Full model\n",
        "CNN_model = Model(input_layer, output)\n",
        "\n",
        "# Kompilieren des Modells\n",
        "## Stochastic Gradient Descent -> langsamer aber genauer\n",
        "optimizer = keras.optimizers.SGD(lr=learning_rate, momentum=momentum, decay=decay)\n",
        "## Adam -> schneller, für schnellere aber nicht 100% Ergebnisse\n",
        "#optimizer = keras.optimizers.Adam(learning_rate=learning_rate)\n",
        "CNN_model.compile(loss=\"sparse_categorical_crossentropy\",optimizer=optimizer,metrics=[\"accuracy\"])\n",
        "CNN_model.summary()"
      ],
      "execution_count": 0,
      "outputs": [
        {
          "output_type": "stream",
          "text": [
            "Model: \"model\"\n",
            "_________________________________________________________________\n",
            "Layer (type)                 Output Shape              Param #   \n",
            "=================================================================\n",
            "input_1 (InputLayer)         [(None, 300, 300, 3)]     0         \n",
            "_________________________________________________________________\n",
            "conv2d (Conv2D)              (None, 294, 294, 256)     37888     \n",
            "_________________________________________________________________\n",
            "max_pooling2d (MaxPooling2D) (None, 147, 147, 256)     0         \n",
            "_________________________________________________________________\n",
            "conv2d_1 (Conv2D)            (None, 145, 145, 256)     590080    \n",
            "_________________________________________________________________\n",
            "max_pooling2d_1 (MaxPooling2 (None, 72, 72, 256)       0         \n",
            "_________________________________________________________________\n",
            "conv2d_2 (Conv2D)            (None, 70, 70, 32)        73760     \n",
            "_________________________________________________________________\n",
            "max_pooling2d_2 (MaxPooling2 (None, 35, 35, 32)        0         \n",
            "_________________________________________________________________\n",
            "conv2d_3 (Conv2D)            (None, 33, 33, 32)        9248      \n",
            "_________________________________________________________________\n",
            "max_pooling2d_3 (MaxPooling2 (None, 16, 16, 32)        0         \n",
            "_________________________________________________________________\n",
            "conv2d_4 (Conv2D)            (None, 14, 14, 32)        9248      \n",
            "_________________________________________________________________\n",
            "max_pooling2d_4 (MaxPooling2 (None, 7, 7, 32)          0         \n",
            "_________________________________________________________________\n",
            "conv2d_5 (Conv2D)            (None, 7, 7, 32)          9248      \n",
            "_________________________________________________________________\n",
            "max_pooling2d_5 (MaxPooling2 (None, 3, 3, 32)          0         \n",
            "_________________________________________________________________\n",
            "flatten (Flatten)            (None, 288)               0         \n",
            "_________________________________________________________________\n",
            "dense (Dense)                (None, 800)               231200    \n",
            "_________________________________________________________________\n",
            "dropout (Dropout)            (None, 800)               0         \n",
            "_________________________________________________________________\n",
            "dense_1 (Dense)              (None, 400)               320400    \n",
            "_________________________________________________________________\n",
            "dropout_1 (Dropout)          (None, 400)               0         \n",
            "_________________________________________________________________\n",
            "dense_2 (Dense)              (None, 10)                4010      \n",
            "=================================================================\n",
            "Total params: 1,285,082\n",
            "Trainable params: 1,285,082\n",
            "Non-trainable params: 0\n",
            "_________________________________________________________________\n"
          ],
          "name": "stdout"
        }
      ]
    },
    {
      "cell_type": "markdown",
      "metadata": {
        "id": "AmJTnsHji1jS",
        "colab_type": "text"
      },
      "source": [
        "Training"
      ]
    },
    {
      "cell_type": "code",
      "metadata": {
        "id": "DlOKArUfi2Hl",
        "colab_type": "code",
        "outputId": "72d79198-1924-42cc-f17f-47346be65a28",
        "colab": {
          "base_uri": "https://localhost:8080/",
          "height": 357
        }
      },
      "source": [
        "# Training des Modells\n",
        "history = CNN_model.fit(\n",
        "    train_data,\n",
        "    epochs=10,\n",
        "    validation_data=test_data\n",
        ")"
      ],
      "execution_count": 0,
      "outputs": [
        {
          "output_type": "stream",
          "text": [
            "Epoch 1/10\n",
            "283/283 [==============================] - 400s 1s/step - loss: 2.2321 - accuracy: 0.1556 - val_loss: 2.1205 - val_accuracy: 0.2171\n",
            "Epoch 2/10\n",
            "283/283 [==============================] - 398s 1s/step - loss: 2.0691 - accuracy: 0.2294 - val_loss: 1.9394 - val_accuracy: 0.3001\n",
            "Epoch 3/10\n",
            "283/283 [==============================] - 397s 1s/step - loss: 1.9745 - accuracy: 0.2748 - val_loss: 1.9159 - val_accuracy: 0.3209\n",
            "Epoch 4/10\n",
            "283/283 [==============================] - 398s 1s/step - loss: 1.9178 - accuracy: 0.3038 - val_loss: 1.9055 - val_accuracy: 0.3276\n",
            "Epoch 5/10\n",
            "283/283 [==============================] - 399s 1s/step - loss: 1.8808 - accuracy: 0.3231 - val_loss: 1.8190 - val_accuracy: 0.3632\n",
            "Epoch 6/10\n",
            "283/283 [==============================] - 398s 1s/step - loss: 1.8308 - accuracy: 0.3406 - val_loss: 1.8199 - val_accuracy: 0.3556\n",
            "Epoch 7/10\n",
            "283/283 [==============================] - 398s 1s/step - loss: 1.7987 - accuracy: 0.3512 - val_loss: 1.7857 - val_accuracy: 0.3749\n",
            "Epoch 8/10\n",
            "283/283 [==============================] - 398s 1s/step - loss: 1.7568 - accuracy: 0.3643 - val_loss: 1.7575 - val_accuracy: 0.3815\n",
            "Epoch 9/10\n",
            "283/283 [==============================] - 397s 1s/step - loss: 1.7416 - accuracy: 0.3757 - val_loss: 1.7371 - val_accuracy: 0.3876\n",
            "Epoch 10/10\n",
            "283/283 [==============================] - 398s 1s/step - loss: 1.7081 - accuracy: 0.3891 - val_loss: 1.7496 - val_accuracy: 0.3848\n"
          ],
          "name": "stdout"
        }
      ]
    },
    {
      "cell_type": "markdown",
      "metadata": {
        "id": "haXQGixnkqwf",
        "colab_type": "text"
      },
      "source": [
        "Tranings-Ergebnis anzeigen"
      ]
    },
    {
      "cell_type": "code",
      "metadata": {
        "id": "_kK2YbhOkrli",
        "colab_type": "code",
        "outputId": "e48e4f1d-0e81-4074-8c78-132d2c15cdbf",
        "colab": {
          "base_uri": "https://localhost:8080/",
          "height": 295
        }
      },
      "source": [
        "helpers.plot_history('MyCNN', history, 0)"
      ],
      "execution_count": 0,
      "outputs": [
        {
          "output_type": "display_data",
          "data": {
            "image/png": "[encoded data removed]",
            "text/plain": [
              "<Figure size 432x288 with 1 Axes>"
            ]
          },
          "metadata": {
            "tags": [],
            "needs_background": "light"
          }
        }
      ]
    },
    {
      "cell_type": "markdown",
      "metadata": {
        "id": "OewEIeZBuWcH",
        "colab_type": "text"
      },
      "source": [
        "Submission"
      ]
    },
    {
      "cell_type": "code",
      "metadata": {
        "id": "pkxmTvrluWu4",
        "colab_type": "code",
        "outputId": "58f1850f-44ea-45df-953b-33983b4f91fe",
        "colab": {
          "base_uri": "https://localhost:8080/",
          "height": 136
        }
      },
      "source": [
        "#from deeplearning2020 import Submission\n",
        "#Submission('4d712a6d0ae14f2a395c992ad3627476', '3', CNN_model).submit()"
      ],
      "execution_count": 0,
      "outputs": [
        {
          "output_type": "stream",
          "text": [
            "Using TensorFlow backend.\n"
          ],
          "name": "stderr"
        },
        {
          "output_type": "stream",
          "text": [
            "Model wird validiert...\n"
          ],
          "name": "stdout"
        },
        {
          "output_type": "stream",
          "text": [
            "100% (200 of 200) |######################| Elapsed Time: 0:09:15 Time:  0:09:15\n"
          ],
          "name": "stderr"
        },
        {
          "output_type": "stream",
          "text": [
            "Assignment 3 erfolgreich abgegeben!\n",
            "Dein Model hat eine Accuracy von 39.0% auf unseren Validierungsdaten.\n",
            "Du erhältst 41.0% der Punkte auf dieses Assignment.\n",
            "Falls du bereits eine Abgabe mit höherer Bewertung abgegeben hast, wird automatisch das bessere Ergebnis gewählt.\n"
          ],
          "name": "stdout"
        }
      ]
    }
  ]
}