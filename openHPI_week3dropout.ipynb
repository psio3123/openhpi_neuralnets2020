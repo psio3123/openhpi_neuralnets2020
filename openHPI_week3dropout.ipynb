{
  "nbformat": 4,
  "nbformat_minor": 0,
  "metadata": {
    "colab": {
      "name": "openHPI_week3dropout.ipynb",
      "provenance": [],
      "collapsed_sections": [],
      "machine_shape": "hm",
      "authorship_tag": "ABX9TyNgpr8AugJs79C/vpPsoBI0"
    },
    "kernelspec": {
      "name": "python3",
      "display_name": "Python 3"
    },
    "accelerator": "GPU"
  },
  "cells": [
    {
      "cell_type": "markdown",
      "metadata": {
        "id": "V9wK8PkaT33p",
        "colab_type": "text"
      },
      "source": [
        "Install HPI tool and get trainings-data"
      ]
    },
    {
      "cell_type": "code",
      "metadata": {
        "id": "GkxaXvYST4Zl",
        "colab_type": "code",
        "outputId": "7d11680f-7a58-4e78-baea-a55f095d2424",
        "colab": {
          "base_uri": "https://localhost:8080/",
          "height": 632
        }
      },
      "source": [
        "%tensorflow_version 2.x # Befehl für Google Colab für Tensorflow 2\n",
        "\n",
        "# ohne Ausrufezeichen bei Ausführung im lokalen Notebook\n",
        "!pip install --upgrade deeplearning2020\n",
        "from deeplearning2020.datasets import ImageWoof\n",
        "\n",
        "train_data, test_data, classes = ImageWoof.load_data()"
      ],
      "execution_count": 1,
      "outputs": [
        {
          "output_type": "stream",
          "text": [
            "`%tensorflow_version` only switches the major version: 1.x or 2.x.\n",
            "You set: `2.x # Befehl für Google Colab für Tensorflow 2`. This will be interpreted as: `2.x`.\n",
            "\n",
            "\n",
            "TensorFlow 2.x selected.\n",
            "Collecting deeplearning2020\n",
            "  Downloading https://files.pythonhosted.org/packages/3a/7f/6fee39d7590f4ae20a976131b1920d56a3dee138c208dfcb3959cd8c5275/deeplearning2020-0.4.21.tar.gz\n",
            "Collecting kerasltisubmission>=0.4.9\n",
            "\u001b[?25l  Downloading https://files.pythonhosted.org/packages/de/56/0b6adef8e6f5d89e9daa68e03d00850509f1553ce6303c0a49d7c619dd26/kerasltisubmission-0.4.9.tar.gz (392kB)\n",
            "\u001b[K     |████████████████████████████████| 399kB 4.6MB/s \n",
            "\u001b[?25hRequirement already satisfied, skipping upgrade: numpy in /usr/local/lib/python3.6/dist-packages (from kerasltisubmission>=0.4.9->deeplearning2020) (1.18.2)\n",
            "Requirement already satisfied, skipping upgrade: progressbar2 in /usr/local/lib/python3.6/dist-packages (from kerasltisubmission>=0.4.9->deeplearning2020) (3.38.0)\n",
            "Requirement already satisfied, skipping upgrade: requests in /usr/local/lib/python3.6/dist-packages (from kerasltisubmission>=0.4.9->deeplearning2020) (2.21.0)\n",
            "Requirement already satisfied, skipping upgrade: python-utils>=2.3.0 in /usr/local/lib/python3.6/dist-packages (from progressbar2->kerasltisubmission>=0.4.9->deeplearning2020) (2.4.0)\n",
            "Requirement already satisfied, skipping upgrade: six in /usr/local/lib/python3.6/dist-packages (from progressbar2->kerasltisubmission>=0.4.9->deeplearning2020) (1.12.0)\n",
            "Requirement already satisfied, skipping upgrade: urllib3<1.25,>=1.21.1 in /usr/local/lib/python3.6/dist-packages (from requests->kerasltisubmission>=0.4.9->deeplearning2020) (1.24.3)\n",
            "Requirement already satisfied, skipping upgrade: chardet<3.1.0,>=3.0.2 in /usr/local/lib/python3.6/dist-packages (from requests->kerasltisubmission>=0.4.9->deeplearning2020) (3.0.4)\n",
            "Requirement already satisfied, skipping upgrade: certifi>=2017.4.17 in /usr/local/lib/python3.6/dist-packages (from requests->kerasltisubmission>=0.4.9->deeplearning2020) (2020.4.5.1)\n",
            "Requirement already satisfied, skipping upgrade: idna<2.9,>=2.5 in /usr/local/lib/python3.6/dist-packages (from requests->kerasltisubmission>=0.4.9->deeplearning2020) (2.8)\n",
            "Building wheels for collected packages: deeplearning2020, kerasltisubmission\n",
            "  Building wheel for deeplearning2020 (setup.py) ... \u001b[?25l\u001b[?25hdone\n",
            "  Created wheel for deeplearning2020: filename=deeplearning2020-0.4.21-py2.py3-none-any.whl size=8548 sha256=3c08527f9da346be4d5ba1f267b71083a8da87e8f550aa88c59ca568b62bc342\n",
            "  Stored in directory: /root/.cache/pip/wheels/7f/c2/8a/f9f03fc839999f1fe9d5e5a9d2c97cdd5cb8329f61f82ea2c9\n",
            "  Building wheel for kerasltisubmission (setup.py) ... \u001b[?25l\u001b[?25hdone\n",
            "  Created wheel for kerasltisubmission: filename=kerasltisubmission-0.4.9-py2.py3-none-any.whl size=8867 sha256=62dd5af35352da70951f75c313d467e9c18e6e509876bc41c609891584727925\n",
            "  Stored in directory: /root/.cache/pip/wheels/fd/61/f7/09171376b25408ae21b58e98c9fbf2eb924f676bb77659f983\n",
            "Successfully built deeplearning2020 kerasltisubmission\n",
            "Installing collected packages: kerasltisubmission, deeplearning2020\n",
            "Successfully installed deeplearning2020-0.4.21 kerasltisubmission-0.4.9\n",
            "Downloading data from https://s3.amazonaws.com/fast-ai-imageclas/imagewoof2-320.tgz\n",
            "328294400/328288506 [==============================] - 3s 0us/step\n",
            "/root/.keras/datasets/imagewoof2-320/train\n",
            "Loaded 9025 images\n",
            "/root/.keras/datasets/imagewoof2-320/val\n",
            "Loaded 3929 images\n"
          ],
          "name": "stdout"
        }
      ]
    },
    {
      "cell_type": "markdown",
      "metadata": {
        "id": "jFh1v0XCYWMF",
        "colab_type": "text"
      },
      "source": [
        "Init *Tensorflow* and stuff"
      ]
    },
    {
      "cell_type": "code",
      "metadata": {
        "id": "SHiZFtvnYaA2",
        "colab_type": "code",
        "outputId": "ec8d6c9c-a801-460a-8e58-d2140fcebd8d",
        "colab": {
          "base_uri": "https://localhost:8080/",
          "height": 105
        }
      },
      "source": [
        "# TensorFlow ≥2.0 wird benötigt\n",
        "import tensorflow as tf\n",
        "from tensorflow import keras\n",
        "assert tf.__version__ >= \"2.0\"\n",
        "\n",
        "if not tf.test.is_gpu_available():\n",
        "    print(\"No GPU was detected. CNNs can be very slow without a GPU.\")\n",
        "    if IS_COLAB:\n",
        "        print(\"Go to Runtime > Change runtime and select a GPU hardware accelerator.\")\n",
        "else:\n",
        "  print(\"GPU ok\")\n",
        "\n",
        "import numpy as np\n",
        "import matplotlib.pyplot as plt\n",
        "import tensorflow as tf\n",
        "import tensorflow_datasets as tfds\n",
        "import numpy as np\n",
        "from tensorflow.keras.datasets import mnist\n",
        "from tensorflow.keras.layers import Dense, Activation, Input, \\\n",
        "  Conv2D, MaxPooling2D, Flatten\n",
        "from tensorflow.keras.models import Model\n",
        "import matplotlib.pyplot as plt\n",
        "\n",
        "# jupyters notebook Befehl zum direkten Anzeigen von Matplotlib Diagrammen\n",
        "%matplotlib inline"
      ],
      "execution_count": 2,
      "outputs": [
        {
          "output_type": "stream",
          "text": [
            "WARNING:tensorflow:From <ipython-input-2-3114b4965615>:5: is_gpu_available (from tensorflow.python.framework.test_util) is deprecated and will be removed in a future version.\n",
            "Instructions for updating:\n",
            "Use `tf.config.list_physical_devices('GPU')` instead.\n",
            "GPU ok\n"
          ],
          "name": "stdout"
        }
      ]
    },
    {
      "cell_type": "markdown",
      "metadata": {
        "id": "i1M96uVFbrnt",
        "colab_type": "text"
      },
      "source": [
        "Ok, take helpers, too"
      ]
    },
    {
      "cell_type": "code",
      "metadata": {
        "id": "Go_XO7rib3qU",
        "colab_type": "code",
        "colab": {}
      },
      "source": [
        "from deeplearning2020 import helpers\n",
        "\n",
        "#helpers.plot_images(train_data_orig.take(9), classes)"
      ],
      "execution_count": 0,
      "outputs": []
    },
    {
      "cell_type": "markdown",
      "metadata": {
        "id": "bt3b3CO7c6sE",
        "colab_type": "text"
      },
      "source": [
        "Define the preprocessor"
      ]
    },
    {
      "cell_type": "code",
      "metadata": {
        "id": "lTcyXi24c9GP",
        "colab_type": "code",
        "colab": {}
      },
      "source": [
        "def preprocess(image, label):\n",
        "    resized_image = tf.image.resize(image, [300, 300])\n",
        "    return resized_image, label"
      ],
      "execution_count": 0,
      "outputs": []
    },
    {
      "cell_type": "markdown",
      "metadata": {
        "id": "Z-mdjoH1gzVl",
        "colab_type": "text"
      },
      "source": [
        "Resize the pictures and prepare batch"
      ]
    },
    {
      "cell_type": "code",
      "metadata": {
        "id": "AXbNr0pNgxmc",
        "colab_type": "code",
        "outputId": "c3cf774f-6a6b-4443-a94e-e3251986df88",
        "colab": {
          "base_uri": "https://localhost:8080/",
          "height": 71
        }
      },
      "source": [
        "# Festlegung der Batch Größe für die Datenvorbereitung\n",
        "batch_size = 32 \n",
        "\n",
        "# Durchmischen der Trainingsdaten, dass nicht mit sortierten Bildern trainiert wird \n",
        "train_data = train_data.shuffle(1000) \n",
        "\n",
        "print('shape des Trainigsdatensatzes vor dem preprocessing: ', train_data)\n",
        "\n",
        "train_data = train_data.map(preprocess) \\\n",
        "  .batch(batch_size).prefetch(1)          \n",
        "test_data = test_data.map(preprocess) \\\n",
        "  .batch(batch_size).prefetch(1)\n",
        "\n",
        "print('shape des Traingingsdatensatzes nach dem preprocessing: ', train_data)"
      ],
      "execution_count": 6,
      "outputs": [
        {
          "output_type": "stream",
          "text": [
            "shape des Trainigsdatensatzes vor dem preprocessing:  <ShuffleDataset shapes: ((None, None, 3), ()), types: (tf.float32, tf.int64)>\n",
            "shape des Traingingsdatensatzes nach dem preprocessing:  <PrefetchDataset shapes: ((None, 300, 300, 3), (None,)), types: (tf.float32, tf.int64)>\n"
          ],
          "name": "stdout"
        }
      ]
    },
    {
      "cell_type": "markdown",
      "metadata": {
        "id": "PW9OEuzxSAHY",
        "colab_type": "text"
      },
      "source": [
        "Show train data"
      ]
    },
    {
      "cell_type": "code",
      "metadata": {
        "id": "O-250b84SCYs",
        "colab_type": "code",
        "colab": {}
      },
      "source": [
        "#helpers.plot_images(train_data.unbatch().take(9), classes)"
      ],
      "execution_count": 0,
      "outputs": []
    },
    {
      "cell_type": "markdown",
      "metadata": {
        "id": "VsvC45-qeT95",
        "colab_type": "text"
      },
      "source": [
        "Define the net"
      ]
    },
    {
      "cell_type": "code",
      "metadata": {
        "id": "FBEVsODPerZ3",
        "colab_type": "code",
        "outputId": "d27ccdf6-314b-4ae2-e0ae-91ac21ed69bc",
        "colab": {
          "base_uri": "https://localhost:8080/",
          "height": 731
        }
      },
      "source": [
        "# model\n",
        "learning_rate=0.003\n",
        "momentum=0.9\n",
        "dense_neurons=1000\n",
        "n_filters=512\n",
        "first_kernel_size=(11,11)\n",
        "\n",
        "n_classes=len(classes)\n",
        "\n",
        "activation='elu'\n",
        "\n",
        "# Inputgröße muss 300x300 Pixel mit 3 RGB Farben betragen\n",
        "input_layer = Input(shape=(300, 300, 3))\n",
        "\n",
        "# Convolutional Neural Network\n",
        "# 6 Convolutional Layers mit jeweils einer Max Pooling Layer\n",
        "model = Conv2D(\n",
        "    filters=256,\n",
        "    kernel_size=first_kernel_size,\n",
        "    activation=activation\n",
        ")(input_layer)\n",
        "model = MaxPooling2D((2,2))(model)\n",
        "\n",
        "model = Conv2D(\n",
        "    filters = 256, \n",
        "    kernel_size=(3,3), \n",
        "    activation=activation\n",
        ")(model)\n",
        "model = MaxPooling2D((2,2))(model)\n",
        "\n",
        "model = Conv2D(\n",
        "    filters = n_filters, \n",
        "    kernel_size=(3,3), \n",
        "    activation=activation\n",
        ")(model)\n",
        "model = MaxPooling2D((2,2))(model)\n",
        "\n",
        "model = Conv2D(\n",
        "    filters = n_filters, \n",
        "    kernel_size=(3,3), \n",
        "    activation=activation\n",
        ")(model)\n",
        "model = MaxPooling2D((2,2))(model)\n",
        "\n",
        "model = Conv2D(\n",
        "    filters = n_filters, \n",
        "    kernel_size=(3,3), \n",
        "    activation=activation\n",
        ")(model)\n",
        "model = MaxPooling2D((2,2))(model)\n",
        "\n",
        "model = Conv2D(filters = n_filters, \n",
        "  kernel_size=(3,3), \n",
        "  activation=activation, \n",
        "  padding='same'\n",
        ")(model)\n",
        "model = MaxPooling2D((2,2))(model)\n",
        "\n",
        "# Fully-Connected-Classifier\n",
        "model = Flatten()(model)\n",
        "model = Dense(\n",
        "    dense_neurons,\n",
        "    activation=activation\n",
        ")(model)\n",
        "\n",
        "model = Dense(\n",
        "    dense_neurons / 2,\n",
        "    activation='tanh'\n",
        ")(model)\n",
        "\n",
        "# Output Layer\n",
        "output = Dense(n_classes, activation=\"softmax\")(model)\n",
        "\n",
        "CNN_model = Model(input_layer, output)\n",
        "\n",
        "# Kompilieren des Modells\n",
        "## Stochastic Gradient Descent -> langsamer aber genauer\n",
        "optimizer = keras.optimizers.SGD(lr=learning_rate, momentum=momentum)\n",
        "## Adam -> schneller, für schnellere aber nicht 100% Ergebnisse\n",
        "#optimizer = keras.optimizers.Adam(learning_rate=learning_rate)\n",
        "CNN_model.compile(\n",
        "    loss=\"sparse_categorical_crossentropy\",\n",
        "    optimizer=optimizer,\n",
        "    metrics=[\"accuracy\"]\n",
        ")\n",
        "CNN_model.summary()"
      ],
      "execution_count": 12,
      "outputs": [
        {
          "output_type": "stream",
          "text": [
            "Model: \"model_2\"\n",
            "_________________________________________________________________\n",
            "Layer (type)                 Output Shape              Param #   \n",
            "=================================================================\n",
            "input_3 (InputLayer)         [(None, 300, 300, 3)]     0         \n",
            "_________________________________________________________________\n",
            "conv2d_12 (Conv2D)           (None, 290, 290, 256)     93184     \n",
            "_________________________________________________________________\n",
            "max_pooling2d_12 (MaxPooling (None, 145, 145, 256)     0         \n",
            "_________________________________________________________________\n",
            "conv2d_13 (Conv2D)           (None, 143, 143, 256)     590080    \n",
            "_________________________________________________________________\n",
            "max_pooling2d_13 (MaxPooling (None, 71, 71, 256)       0         \n",
            "_________________________________________________________________\n",
            "conv2d_14 (Conv2D)           (None, 69, 69, 512)       1180160   \n",
            "_________________________________________________________________\n",
            "max_pooling2d_14 (MaxPooling (None, 34, 34, 512)       0         \n",
            "_________________________________________________________________\n",
            "conv2d_15 (Conv2D)           (None, 32, 32, 512)       2359808   \n",
            "_________________________________________________________________\n",
            "max_pooling2d_15 (MaxPooling (None, 16, 16, 512)       0         \n",
            "_________________________________________________________________\n",
            "conv2d_16 (Conv2D)           (None, 14, 14, 512)       2359808   \n",
            "_________________________________________________________________\n",
            "max_pooling2d_16 (MaxPooling (None, 7, 7, 512)         0         \n",
            "_________________________________________________________________\n",
            "conv2d_17 (Conv2D)           (None, 7, 7, 512)         2359808   \n",
            "_________________________________________________________________\n",
            "max_pooling2d_17 (MaxPooling (None, 3, 3, 512)         0         \n",
            "_________________________________________________________________\n",
            "flatten_2 (Flatten)          (None, 4608)              0         \n",
            "_________________________________________________________________\n",
            "dense_6 (Dense)              (None, 1000)              4609000   \n",
            "_________________________________________________________________\n",
            "dense_7 (Dense)              (None, 500)               500500    \n",
            "_________________________________________________________________\n",
            "dense_8 (Dense)              (None, 10)                5010      \n",
            "=================================================================\n",
            "Total params: 14,057,358\n",
            "Trainable params: 14,057,358\n",
            "Non-trainable params: 0\n",
            "_________________________________________________________________\n"
          ],
          "name": "stdout"
        }
      ]
    },
    {
      "cell_type": "markdown",
      "metadata": {
        "id": "AmJTnsHji1jS",
        "colab_type": "text"
      },
      "source": [
        "Training"
      ]
    },
    {
      "cell_type": "code",
      "metadata": {
        "id": "DlOKArUfi2Hl",
        "colab_type": "code",
        "outputId": "2e7da03a-fcc8-4291-ce9b-5616cb3c9b08",
        "colab": {
          "base_uri": "https://localhost:8080/",
          "height": 357
        }
      },
      "source": [
        "# Training des Modells\n",
        "history = CNN_model.fit(\n",
        "    train_data,\n",
        "    epochs=10,\n",
        "    validation_data=test_data\n",
        ")"
      ],
      "execution_count": 17,
      "outputs": [
        {
          "output_type": "stream",
          "text": [
            "Epoch 1/10\n",
            "283/283 [==============================] - 141s 499ms/step - loss: 1.7890 - accuracy: 0.3659 - val_loss: 1.9787 - val_accuracy: 0.3207\n",
            "Epoch 2/10\n",
            "283/283 [==============================] - 141s 500ms/step - loss: 1.6319 - accuracy: 0.4311 - val_loss: 1.7655 - val_accuracy: 0.3963\n",
            "Epoch 3/10\n",
            "283/283 [==============================] - 141s 500ms/step - loss: 1.4003 - accuracy: 0.5151 - val_loss: 1.9854 - val_accuracy: 0.3607\n",
            "Epoch 4/10\n",
            "283/283 [==============================] - 141s 499ms/step - loss: 1.0956 - accuracy: 0.6325 - val_loss: 2.1830 - val_accuracy: 0.3535\n",
            "Epoch 5/10\n",
            "283/283 [==============================] - 142s 500ms/step - loss: 0.8397 - accuracy: 0.7160 - val_loss: 2.3054 - val_accuracy: 0.3747\n",
            "Epoch 6/10\n",
            "283/283 [==============================] - 141s 499ms/step - loss: 0.2364 - accuracy: 0.9314 - val_loss: 2.3615 - val_accuracy: 0.4082\n",
            "Epoch 7/10\n",
            "283/283 [==============================] - 141s 499ms/step - loss: 0.0481 - accuracy: 0.9924 - val_loss: 2.4178 - val_accuracy: 0.4304\n",
            "Epoch 8/10\n",
            "283/283 [==============================] - 141s 499ms/step - loss: 0.0069 - accuracy: 0.9999 - val_loss: 2.4175 - val_accuracy: 0.4492\n",
            "Epoch 9/10\n",
            "283/283 [==============================] - 141s 499ms/step - loss: 0.0035 - accuracy: 0.9998 - val_loss: 2.4465 - val_accuracy: 0.4530\n",
            "Epoch 10/10\n",
            "283/283 [==============================] - 141s 500ms/step - loss: 0.0022 - accuracy: 0.9999 - val_loss: 2.4748 - val_accuracy: 0.4536\n"
          ],
          "name": "stdout"
        }
      ]
    },
    {
      "cell_type": "markdown",
      "metadata": {
        "id": "haXQGixnkqwf",
        "colab_type": "text"
      },
      "source": [
        "Tranings-Ergebnis anzeigen"
      ]
    },
    {
      "cell_type": "code",
      "metadata": {
        "id": "_kK2YbhOkrli",
        "colab_type": "code",
        "outputId": "7c2309c2-2d00-490c-fdf8-b1cf141133e9",
        "colab": {
          "base_uri": "https://localhost:8080/",
          "height": 295
        }
      },
      "source": [
        "helpers.plot_history('MyCNN', history, 0)"
      ],
      "execution_count": 18,
      "outputs": [
        {
          "output_type": "display_data",
          "data": {
            "image/png": "[encoded data removed]",
            "text/plain": [
              "<Figure size 432x288 with 1 Axes>"
            ]
          },
          "metadata": {
            "tags": [],
            "needs_background": "light"
          }
        }
      ]
    },
    {
      "cell_type": "markdown",
      "metadata": {
        "id": "OewEIeZBuWcH",
        "colab_type": "text"
      },
      "source": [
        "Submission"
      ]
    },
    {
      "cell_type": "code",
      "metadata": {
        "id": "pkxmTvrluWu4",
        "colab_type": "code",
        "outputId": "0f020318-7508-46ca-8c84-685297790747",
        "colab": {
          "base_uri": "https://localhost:8080/",
          "height": 119
        }
      },
      "source": [
        "from deeplearning2020 import Submission\n",
        "Submission('4d712a6d0ae14f2a395c992ad3627476', '3', CNN_model).submit()"
      ],
      "execution_count": 19,
      "outputs": [
        {
          "output_type": "stream",
          "text": [
            "Model wird validiert...\n"
          ],
          "name": "stdout"
        },
        {
          "output_type": "stream",
          "text": [
            "100% (200 of 200) |######################| Elapsed Time: 0:09:27 Time:  0:09:27\n"
          ],
          "name": "stderr"
        },
        {
          "output_type": "stream",
          "text": [
            "Assignment 3 erfolgreich abgegeben!\n",
            "Dein Model hat eine Accuracy von 46.0% auf unseren Validierungsdaten.\n",
            "Du erhältst 48.0% der Punkte auf dieses Assignment.\n",
            "Falls du bereits eine Abgabe mit höherer Bewertung abgegeben hast, wird automatisch das bessere Ergebnis gewählt.\n"
          ],
          "name": "stdout"
        }
      ]
    }
  ]
}
